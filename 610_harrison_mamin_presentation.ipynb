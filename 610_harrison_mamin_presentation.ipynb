{
 "cells": [
  {
   "cell_type": "markdown",
   "metadata": {
    "slideshow": {
     "slide_type": "slide"
    }
   },
   "source": [
    "# Intro to PRAW - Python Reddit API Wrapper\n",
    "<img src='reddit_logo.jpg' width='480px'>"
   ]
  },
  {
   "cell_type": "markdown",
   "metadata": {
    "slideshow": {
     "slide_type": "slide"
    }
   },
   "source": [
    "<img src=\"reddit_all.jpg\">"
   ]
  },
  {
   "cell_type": "markdown",
   "metadata": {
    "slideshow": {
     "slide_type": "slide"
    }
   },
   "source": [
    "### Getting Started\n",
    "https://www.reddit.com/prefs/apps\n",
    "<img src='signup.jpg' style='border:blue 2px solid'>\n",
    "•select 'script' type for basic use<br>\n",
    "•pip install praw"
   ]
  },
  {
   "cell_type": "code",
   "execution_count": 107,
   "metadata": {
    "slideshow": {
     "slide_type": "slide"
    }
   },
   "outputs": [],
   "source": [
    "import praw\n",
    "import numpy as np\n",
    "import matplotlib.pyplot as plt\n",
    "import seaborn as sns\n",
    "from nltk.stem.porter import PorterStemmer\n",
    "from nltk.tokenize import word_tokenize\n",
    "from nltk.corpus import stopwords\n",
    "from wordcloud import WordCloud\n",
    "from collections import Counter\n",
    "\n",
    "%matplotlib inline\n",
    "sns.set_style('darkgrid')"
   ]
  },
  {
   "cell_type": "markdown",
   "metadata": {
    "slideshow": {
     "slide_type": "slide"
    }
   },
   "source": [
    "### Creating a Reddit instance"
   ]
  },
  {
   "cell_type": "code",
   "execution_count": 108,
   "metadata": {
    "slideshow": {
     "slide_type": "-"
    }
   },
   "outputs": [
    {
     "data": {
      "text/plain": [
       "Redditor(name='hdmamin')"
      ]
     },
     "execution_count": 108,
     "metadata": {},
     "output_type": "execute_result"
    }
   ],
   "source": [
    "def load_credentials(filename='/Users/hmamin/creds/praw_msds.txt'):\n",
    "    \"\"\"Read praw credentials from file. Return a list of field names\n",
    "    and a list of values.\n",
    "    \"\"\"\n",
    "    with open(filename, 'r') as f:\n",
    "        rows = f.readlines()\n",
    "        cred_fields, cred_vals = [row.strip().split(',') for row in rows]\n",
    "    return cred_fields, cred_vals\n",
    "\n",
    "\n",
    "cred_fields, cred_vals = load_credentials()\n",
    "reddit = praw.Reddit(client_id=cred_vals[0], client_secret=cred_vals[1],\n",
    "                    username=cred_vals[2], password=cred_vals[3],\n",
    "                    user_agent=cred_vals[4])\n",
    "reddit.user.me()"
   ]
  },
  {
   "cell_type": "markdown",
   "metadata": {
    "slideshow": {
     "slide_type": "skip"
    }
   },
   "source": [
    "## Subreddits and Submissions"
   ]
  },
  {
   "cell_type": "code",
   "execution_count": 15,
   "metadata": {
    "slideshow": {
     "slide_type": "skip"
    }
   },
   "outputs": [
    {
     "name": "stdout",
     "output_type": "stream",
     "text": [
      "Title: Weightlifter promised his wife to win an Olympic gold medal before she died in a car accident\n",
      "Upvotes: 141639\n",
      "Author: unknown_human\n",
      "Link: /r/sports/comments/7k6zaz/weightlifter_promised_his_wife_to_win_an_olympic/ \n",
      "\n",
      "Title: A Pelicans fan snuck on to the court for warmups, stretched and put up a shot before the police escorted him off\n",
      "Upvotes: 103447\n",
      "Author: JF_112\n",
      "Link: /r/sports/comments/7ttqeu/a_pelicans_fan_snuck_on_to_the_court_for_warmups/ \n",
      "\n",
      "Title: \"Just stay in there, you're done for tonight\"\n",
      "Upvotes: 101419\n",
      "Author: woody313\n",
      "Link: /r/sports/comments/80xq68/just_stay_in_there_youre_done_for_tonight/ \n",
      "\n"
     ]
    }
   ],
   "source": [
    "sub_sports = reddit.subreddit('sports')\n",
    "for post in sub_sports.top(time_filter='year', limit=3):\n",
    "    print('Title:', post.title)\n",
    "    print('Upvotes:', post.score)\n",
    "    print('Author:', str(post.author))\n",
    "    print('Link:', post.permalink, '\\n')"
   ]
  },
  {
   "cell_type": "markdown",
   "metadata": {
    "slideshow": {
     "slide_type": "slide"
    }
   },
   "source": [
    "### Posts and Comments"
   ]
  },
  {
   "cell_type": "code",
   "execution_count": 109,
   "metadata": {
    "slideshow": {
     "slide_type": "-"
    }
   },
   "outputs": [
    {
     "name": "stdout",
     "output_type": "stream",
     "text": [
      "Post title: Weightlifter promised his wife to win an Olympic gold medal before she died in a car accident\n",
      "\n",
      "Author: Vathsade\n",
      "Score: 34636\n",
      "Time (utc): 1513433450.0\n",
      "Body: To win it, he had to clean and jerk 10kg more than his previous personal best. Not only did he win, but did so by lifting more than he ever had before. Truly remarkable.\n"
     ]
    }
   ],
   "source": [
    "scores, users, text, wordcounts = [], [], [], []\n",
    "sub_sports = reddit.subreddit('sports')\n",
    "for post in sub_sports.top(time_filter='year', limit=1):\n",
    "    print(f'Post title: {post.title}\\n')\n",
    "    post.comments.replace_more(limit=0)\n",
    "    comments = post.comments.list()\n",
    "    \n",
    "    # Iterate through comments in post and extract attributes.\n",
    "    for i, comment in enumerate(comments):\n",
    "        if i == 0:\n",
    "            print(f'Author: {comment.author}\\nScore: {comment.score}'\n",
    "                  f'\\nTime (utc): {comment.created_utc}\\nBody: {comment.body}')\n",
    "        scores.append(comment.score)\n",
    "        users.append(str(comment.author))\n",
    "        text.append(comment.body)\n",
    "        wordcounts.append(len(comment.body.split()))"
   ]
  },
  {
   "cell_type": "code",
   "execution_count": 21,
   "metadata": {
    "slideshow": {
     "slide_type": "skip"
    }
   },
   "outputs": [
    {
     "data": {
      "image/png": "[encoded data removed]",
      "text/plain": [
       "<Figure size 720x360 with 1 Axes>"
      ]
     },
     "metadata": {},
     "output_type": "display_data"
    }
   ],
   "source": [
    "fig, ax = plt.subplots(figsize=(10,5))\n",
    "plt.hist(wordcounts, bins=50)\n",
    "plt.xlabel('Word Count')\n",
    "plt.show()"
   ]
  },
  {
   "cell_type": "code",
   "execution_count": 22,
   "metadata": {
    "slideshow": {
     "slide_type": "skip"
    }
   },
   "outputs": [
    {
     "data": {
      "image/png": "[encoded data removed]",
      "text/plain": [
       "<Figure size 576x288 with 1 Axes>"
      ]
     },
     "metadata": {},
     "output_type": "display_data"
    }
   ],
   "source": [
    "fig, ax = plt.subplots(figsize=(8,4))\n",
    "ax.scatter(np.log(wordcounts), np.log(scores), color='red', s=2)\n",
    "plt.xlabel('log(word count)')\n",
    "plt.ylabel('log(comment score)')\n",
    "plt.show()"
   ]
  },
  {
   "cell_type": "code",
   "execution_count": 23,
   "metadata": {
    "slideshow": {
     "slide_type": "skip"
    }
   },
   "outputs": [
    {
     "name": "stderr",
     "output_type": "stream",
     "text": [
      "/anaconda3/envs/live_plot/lib/python3.7/site-packages/scipy/stats/stats.py:1713: FutureWarning: Using a non-tuple sequence for multidimensional indexing is deprecated; use `arr[tuple(seq)]` instead of `arr[seq]`. In the future this will be interpreted as an array index, `arr[np.array(seq)]`, which will result either in an error or a different result.\n",
      "  return np.add.reduce(sorted[indexer] * weights, axis=axis) / sumval\n"
     ]
    },
    {
     "data": {
      "image/png": "[encoded data removed]",
      "text/plain": [
       "<Figure size 576x360 with 1 Axes>"
      ]
     },
     "metadata": {},
     "output_type": "display_data"
    }
   ],
   "source": [
    "fig, ax = plt.subplots(figsize=(8,5))\n",
    "sns.kdeplot(np.log(wordcounts), np.log(scores), shade=True)\n",
    "plt.xlabel('log(Comment length)')\n",
    "plt.ylabel('log(Comment score)')\n",
    "plt.show()"
   ]
  },
  {
   "cell_type": "code",
   "execution_count": 105,
   "metadata": {
    "slideshow": {
     "slide_type": "slide"
    }
   },
   "outputs": [],
   "source": [
    "def clean_text(text):\n",
    "    \"\"\"Pass in string. Remove punctuation and stop words and return stemmed list.\"\"\"\n",
    "    ps = PorterStemmer()\n",
    "    stop_words = stopwords.words('English')\n",
    "    stemmed = [ps.stem(word) for word in word_tokenize(text.lower())\n",
    "               if word not in stop_words and len(word) > 3]\n",
    "    return stemmed\n",
    "\n",
    "def make_cloud(word_tokens, n=40):\n",
    "    \"\"\"Pass in list of word tokens. Create word cloud from n most common words.\"\"\"\n",
    "    word_counts = Counter(word_tokens)\n",
    "    common_words = word_counts.most_common(n)\n",
    "    cloud = WordCloud()\n",
    "    cloud.fit_words(dict(common_words))\n",
    "    \n",
    "    # Create plot.\n",
    "    fig, ax = plt.subplots(figsize=(8,4))\n",
    "    plt.imshow(cloud)\n",
    "    plt.axis('off')\n",
    "    plt.show()"
   ]
  },
  {
   "cell_type": "code",
   "execution_count": 106,
   "metadata": {
    "scrolled": true,
    "slideshow": {
     "slide_type": "slide"
    }
   },
   "outputs": [
    {
     "data": {
      "image/png": "[encoded data removed]",
      "text/plain": [
       "<Figure size 576x288 with 1 Axes>"
      ]
     },
     "metadata": {},
     "output_type": "display_data"
    }
   ],
   "source": [
    "combined_text = ' '.join(text)\n",
    "word_tokens = clean_text(combined_text)\n",
    "make_cloud(word_tokens, n=16)"
   ]
  },
  {
   "cell_type": "markdown",
   "metadata": {
    "slideshow": {
     "slide_type": "skip"
    }
   },
   "source": [
    "## Streaming"
   ]
  },
  {
   "cell_type": "code",
   "execution_count": 311,
   "metadata": {
    "slideshow": {
     "slide_type": "skip"
    }
   },
   "outputs": [],
   "source": [
    "for comment in reddit.subreddit('all').stream.comments():\n",
    "    print(comment.body)"
   ]
  },
  {
   "cell_type": "markdown",
   "metadata": {
    "slideshow": {
     "slide_type": "slide"
    }
   },
   "source": [
    "### Posting to Reddit"
   ]
  },
  {
   "cell_type": "code",
   "execution_count": 79,
   "metadata": {
    "slideshow": {
     "slide_type": "-"
    }
   },
   "outputs": [
    {
     "data": {
      "text/plain": [
       "Submission(id='9kxx5a')"
      ]
     },
     "execution_count": 79,
     "metadata": {},
     "output_type": "execute_result"
    }
   ],
   "source": [
    "post_title = 'Hi from MSAN610'\n",
    "post_text = 'End of presentation'\n",
    "sub_test = reddit.subreddit('test')\n",
    "sub_test.submit(title=post_title, selftext=post_text)"
   ]
  },
  {
   "cell_type": "markdown",
   "metadata": {},
   "source": [
    "https://www.reddit.com/r/test/new"
   ]
  },
  {
   "cell_type": "markdown",
   "metadata": {
    "slideshow": {
     "slide_type": "slide"
    }
   },
   "source": [
    "### Notes\n",
    "https://github.com/hdmamin/introduction_to_praw\n",
    "\n",
    "### For more on bots\n",
    "https://praw.readthedocs.io/en/latest/tutorials/reply_bot.html"
   ]
  },
  {
   "cell_type": "markdown",
   "metadata": {
    "slideshow": {
     "slide_type": "skip"
    }
   },
   "source": [
    "### Image source\n",
    "https://www.theverge.com/2018/3/14/17121066/reddit-promoted-posts-mobile-app"
   ]
  }
 ],
 "metadata": {
  "celltoolbar": "Slideshow",
  "kernelspec": {
   "display_name": "Python 3",
   "language": "python",
   "name": "python3"
  },
  "language_info": {
   "codemirror_mode": {
    "name": "ipython",
    "version": 3
   },
   "file_extension": ".py",
   "mimetype": "text/x-python",
   "name": "python",
   "nbconvert_exporter": "python",
   "pygments_lexer": "ipython3",
   "version": "3.7.0"
  }
 },
 "nbformat": 4,
 "nbformat_minor": 2
}

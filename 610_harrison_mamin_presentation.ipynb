{
 "cells": [
  {
   "cell_type": "markdown",
   "metadata": {
    "slideshow": {
     "slide_type": "slide"
    }
   },
   "source": [
    "# Intro to PRAW - Python Reddit API Wrapper\n",
    "<img src='reddit_logo.jpg' width='480px'>"
   ]
  },
  {
   "cell_type": "markdown",
   "metadata": {
    "slideshow": {
     "slide_type": "slide"
    }
   },
   "source": [
    "### Registration\n",
    "https://www.reddit.com/prefs/apps\n",
    "<img src='signup.jpg'>\n",
    "•select 'script' type for basic use"
   ]
  },
  {
   "cell_type": "markdown",
   "metadata": {
    "slideshow": {
     "slide_type": "slide"
    }
   },
   "source": [
    "## Setup\n",
    "pip install praw"
   ]
  },
  {
   "cell_type": "code",
   "execution_count": 1,
   "metadata": {
    "slideshow": {
     "slide_type": "slide"
    }
   },
   "outputs": [],
   "source": [
    "import praw\n",
    "import re\n",
    "import string\n",
    "import numpy\n",
    "import matplotlib.pyplot as plt\n",
    "import seaborn as sns\n",
    "from nltk.stem.porter import PorterStemmer\n",
    "from nltk.tokenize import word_tokenize\n",
    "from nltk.corpus import stopwords\n",
    "from wordcloud import WordCloud\n",
    "\n",
    "%matplotlib inline\n",
    "sns.set_style('darkgrid')"
   ]
  },
  {
   "cell_type": "code",
   "execution_count": 2,
   "metadata": {
    "slideshow": {
     "slide_type": "slide"
    }
   },
   "outputs": [
    {
     "name": "stdout",
     "output_type": "stream",
     "text": [
      "['client_id', 'client_secret', 'username', 'password', 'user_agent']\n"
     ]
    }
   ],
   "source": [
    "with open('/Users/hmamin/creds/praw_msds.txt', 'r') as f:\n",
    "    rows = f.readlines()\n",
    "    cred_fields, cred_vals = [row.strip().split(',') for row in rows]\n",
    "print(cred_fields)"
   ]
  },
  {
   "cell_type": "code",
   "execution_count": 3,
   "metadata": {
    "slideshow": {
     "slide_type": "slide"
    }
   },
   "outputs": [
    {
     "data": {
      "text/plain": [
       "['auth',\n",
       " 'comment',\n",
       " 'config',\n",
       " 'domain',\n",
       " 'front',\n",
       " 'get',\n",
       " 'inbox',\n",
       " 'info',\n",
       " 'live',\n",
       " 'multireddit',\n",
       " 'patch',\n",
       " 'post',\n",
       " 'random_subreddit',\n",
       " 'read_only',\n",
       " 'redditor',\n",
       " 'request',\n",
       " 'submission',\n",
       " 'subreddit',\n",
       " 'subreddits',\n",
       " 'update_checked',\n",
       " 'user']"
      ]
     },
     "execution_count": 3,
     "metadata": {},
     "output_type": "execute_result"
    }
   ],
   "source": [
    "reddit = praw.Reddit(client_id=cred_vals[0], client_secret=cred_vals[1],\n",
    "                    username=cred_vals[2], password=cred_vals[3],\n",
    "                    user_agent=cred_vals[4])\n",
    "dir(reddit)[39:]"
   ]
  },
  {
   "cell_type": "code",
   "execution_count": 35,
   "metadata": {
    "slideshow": {
     "slide_type": "slide"
    }
   },
   "outputs": [
    {
     "data": {
      "text/plain": [
       "Redditor(name='hdmamin')"
      ]
     },
     "execution_count": 35,
     "metadata": {},
     "output_type": "execute_result"
    }
   ],
   "source": [
    "reddit.user.me()"
   ]
  },
  {
   "cell_type": "code",
   "execution_count": 14,
   "metadata": {
    "slideshow": {
     "slide_type": "slide"
    }
   },
   "outputs": [
    {
     "name": "stdout",
     "output_type": "stream",
     "text": [
      "Lindsay Lohan Gets Punched in Face After Accusing Refugee Family of 'Trafficking' (Video)\n"
     ]
    }
   ],
   "source": [
    "news = reddit.subreddit('news')\n",
    "for post in news.top(time_filter='day', limit=1):\n",
    "    print(post.title)\n",
    "    post.comments.replace_more(limit=0)\n",
    "    post_comments = post.comments.list()"
   ]
  },
  {
   "cell_type": "code",
   "execution_count": 67,
   "metadata": {
    "slideshow": {
     "slide_type": "slide"
    }
   },
   "outputs": [],
   "source": [
    "# works with comments from single post\n",
    "scores, body, wordcount = list(zip(*[(comment.score, comment.body, \n",
    "                                      len(comment.body.split(' '))) \n",
    "                                      for comment in post_comments]))"
   ]
  },
  {
   "cell_type": "code",
   "execution_count": 68,
   "metadata": {
    "slideshow": {
     "slide_type": "slide"
    }
   },
   "outputs": [
    {
     "data": {
      "text/html": [
       "\n",
       "\n",
       "\n",
       "\n",
       "\n",
       "\n",
       "  <div class=\"bk-root\" id=\"fe75c613-b5f8-4381-996e-810675366a2f\"></div>\n"
      ]
     },
     "metadata": {},
     "output_type": "display_data"
    },
    {
     "data": {
      "application/javascript": [
       "(function(root) {\n",
       "  function embed_document(root) {\n",
       "    \n",
       "  var docs_json = {\"ba09d01b-62c1-4aa8-bdca-ac9e9e68ca4a\":{\"roots\":{\"references\":[{\"attributes\":{},\"id\":\"ebf22467-3f57-44e7-8b47-2c66b2903c8e\",\"type\":\"HelpTool\"},{\"attributes\":{\"below\":[{\"id\":\"fccc9293-d896-4fdc-bd75-c540317b5675\",\"type\":\"LinearAxis\"}],\"left\":[{\"id\":\"8100799a-9762-49f0-a81a-16edd98daa81\",\"type\":\"LinearAxis\"}],\"plot_height\":300,\"renderers\":[{\"id\":\"fccc9293-d896-4fdc-bd75-c540317b5675\",\"type\":\"LinearAxis\"},{\"id\":\"0adeeeb8-8849-4885-8052-9c70e05f7912\",\"type\":\"Grid\"},{\"id\":\"8100799a-9762-49f0-a81a-16edd98daa81\",\"type\":\"LinearAxis\"},{\"id\":\"51215a8a-e86b-45a6-a4c7-cc4fcc3be170\",\"type\":\"Grid\"},{\"id\":\"ae502b1f-f16a-48ec-a06f-a238683194b8\",\"type\":\"BoxAnnotation\"},{\"id\":\"ae3b977a-b2fb-4c2e-ac94-9d8d2f856efa\",\"type\":\"GlyphRenderer\"}],\"title\":{\"id\":\"94c312b0-5808-4e9b-94d7-2f138c5e12b6\",\"type\":\"Title\"},\"toolbar\":{\"id\":\"91f33cfa-33c3-44de-aa1a-d75b70355c08\",\"type\":\"Toolbar\"},\"x_range\":{\"id\":\"8f6b78ed-fc74-42e3-9d51-03f9b4c46d78\",\"type\":\"DataRange1d\"},\"x_scale\":{\"id\":\"cb6b35c4-3406-4f9f-8c50-5101b182b346\",\"type\":\"LinearScale\"},\"y_range\":{\"id\":\"4b86359f-b80e-4507-a521-56dd8961b9d2\",\"type\":\"DataRange1d\"},\"y_scale\":{\"id\":\"9e8af576-a04f-4a5f-978b-433f41769b6e\",\"type\":\"LinearScale\"}},\"id\":\"aa7fee33-afca-444e-a56b-aa441f92ca69\",\"subtype\":\"Figure\",\"type\":\"Plot\"},{\"attributes\":{},\"id\":\"f68aee64-1911-45f3-864c-a80c804013d9\",\"type\":\"BasicTicker\"},{\"attributes\":{\"data_source\":{\"id\":\"63151c94-c11a-4c0d-b3f0-a2d08d00cc67\",\"type\":\"ColumnDataSource\"},\"glyph\":{\"id\":\"ef343115-845c-4f3b-880b-0f89d2492bc7\",\"type\":\"Circle\"},\"hover_glyph\":null,\"muted_glyph\":null,\"nonselection_glyph\":{\"id\":\"1043e301-8928-43a1-9032-28ec7f8696e7\",\"type\":\"Circle\"},\"selection_glyph\":null,\"view\":{\"id\":\"38421e67-a63c-44ae-84aa-4cd3befec1b4\",\"type\":\"CDSView\"}},\"id\":\"ae3b977a-b2fb-4c2e-ac94-9d8d2f856efa\",\"type\":\"GlyphRenderer\"},{\"attributes\":{\"fill_alpha\":{\"value\":0.1},\"fill_color\":{\"value\":\"#1f77b4\"},\"line_alpha\":{\"value\":0.1},\"line_color\":{\"value\":\"#1f77b4\"},\"size\":{\"units\":\"screen\",\"value\":2},\"x\":{\"field\":\"x\"},\"y\":{\"field\":\"y\"}},\"id\":\"1043e301-8928-43a1-9032-28ec7f8696e7\",\"type\":\"Circle\"},{\"attributes\":{},\"id\":\"9e8af576-a04f-4a5f-978b-433f41769b6e\",\"type\":\"LinearScale\"},{\"attributes\":{},\"id\":\"fab6493a-c47b-4aac-bd9c-8fb9e82b4bde\",\"type\":\"BasicTicker\"},{\"attributes\":{\"dimension\":1,\"plot\":{\"id\":\"aa7fee33-afca-444e-a56b-aa441f92ca69\",\"subtype\":\"Figure\",\"type\":\"Plot\"},\"ticker\":{\"id\":\"fab6493a-c47b-4aac-bd9c-8fb9e82b4bde\",\"type\":\"BasicTicker\"}},\"id\":\"51215a8a-e86b-45a6-a4c7-cc4fcc3be170\",\"type\":\"Grid\"},{\"attributes\":{\"formatter\":{\"id\":\"6268ab83-7fac-48b7-943e-629923a494de\",\"type\":\"BasicTickFormatter\"},\"plot\":{\"id\":\"aa7fee33-afca-444e-a56b-aa441f92ca69\",\"subtype\":\"Figure\",\"type\":\"Plot\"},\"ticker\":{\"id\":\"fab6493a-c47b-4aac-bd9c-8fb9e82b4bde\",\"type\":\"BasicTicker\"}},\"id\":\"8100799a-9762-49f0-a81a-16edd98daa81\",\"type\":\"LinearAxis\"},{\"attributes\":{},\"id\":\"8c7d014a-c613-46a1-8b64-fa52e4da48b4\",\"type\":\"ResetTool\"},{\"attributes\":{\"plot\":null,\"text\":\"\"},\"id\":\"94c312b0-5808-4e9b-94d7-2f138c5e12b6\",\"type\":\"Title\"},{\"attributes\":{\"callback\":null},\"id\":\"4b86359f-b80e-4507-a521-56dd8961b9d2\",\"type\":\"DataRange1d\"},{\"attributes\":{},\"id\":\"b2f88c24-a9c3-4a84-8790-a2d77180f679\",\"type\":\"SaveTool\"},{\"attributes\":{\"overlay\":{\"id\":\"ae502b1f-f16a-48ec-a06f-a238683194b8\",\"type\":\"BoxAnnotation\"}},\"id\":\"e39526de-7b3c-4a10-ac49-398efd8c3027\",\"type\":\"BoxZoomTool\"},{\"attributes\":{},\"id\":\"4aaf99c6-c0a3-4b01-8939-ad7caa42a0de\",\"type\":\"WheelZoomTool\"},{\"attributes\":{\"plot\":{\"id\":\"aa7fee33-afca-444e-a56b-aa441f92ca69\",\"subtype\":\"Figure\",\"type\":\"Plot\"},\"ticker\":{\"id\":\"f68aee64-1911-45f3-864c-a80c804013d9\",\"type\":\"BasicTicker\"}},\"id\":\"0adeeeb8-8849-4885-8052-9c70e05f7912\",\"type\":\"Grid\"},{\"attributes\":{},\"id\":\"6268ab83-7fac-48b7-943e-629923a494de\",\"type\":\"BasicTickFormatter\"},{\"attributes\":{},\"id\":\"cb6b35c4-3406-4f9f-8c50-5101b182b346\",\"type\":\"LinearScale\"},{\"attributes\":{},\"id\":\"cb48f820-4dec-43a9-9fe3-abda0dfb1cd0\",\"type\":\"PanTool\"},{\"attributes\":{\"fill_color\":{\"value\":\"red\"},\"line_color\":{\"value\":\"red\"},\"size\":{\"units\":\"screen\",\"value\":2},\"x\":{\"field\":\"x\"},\"y\":{\"field\":\"y\"}},\"id\":\"ef343115-845c-4f3b-880b-0f89d2492bc7\",\"type\":\"Circle\"},{\"attributes\":{},\"id\":\"ee014c17-f1c0-43e8-9f33-8a6251f8afde\",\"type\":\"UnionRenderers\"},{\"attributes\":{\"formatter\":{\"id\":\"21ac924d-1ed1-445a-bfa2-92f40eca36e5\",\"type\":\"BasicTickFormatter\"},\"plot\":{\"id\":\"aa7fee33-afca-444e-a56b-aa441f92ca69\",\"subtype\":\"Figure\",\"type\":\"Plot\"},\"ticker\":{\"id\":\"f68aee64-1911-45f3-864c-a80c804013d9\",\"type\":\"BasicTicker\"}},\"id\":\"fccc9293-d896-4fdc-bd75-c540317b5675\",\"type\":\"LinearAxis\"},{\"attributes\":{},\"id\":\"21ac924d-1ed1-445a-bfa2-92f40eca36e5\",\"type\":\"BasicTickFormatter\"},{\"attributes\":{\"active_drag\":\"auto\",\"active_inspect\":\"auto\",\"active_multi\":null,\"active_scroll\":\"auto\",\"active_tap\":\"auto\",\"tools\":[{\"id\":\"cb48f820-4dec-43a9-9fe3-abda0dfb1cd0\",\"type\":\"PanTool\"},{\"id\":\"4aaf99c6-c0a3-4b01-8939-ad7caa42a0de\",\"type\":\"WheelZoomTool\"},{\"id\":\"e39526de-7b3c-4a10-ac49-398efd8c3027\",\"type\":\"BoxZoomTool\"},{\"id\":\"b2f88c24-a9c3-4a84-8790-a2d77180f679\",\"type\":\"SaveTool\"},{\"id\":\"8c7d014a-c613-46a1-8b64-fa52e4da48b4\",\"type\":\"ResetTool\"},{\"id\":\"ebf22467-3f57-44e7-8b47-2c66b2903c8e\",\"type\":\"HelpTool\"}]},\"id\":\"91f33cfa-33c3-44de-aa1a-d75b70355c08\",\"type\":\"Toolbar\"},{\"attributes\":{\"callback\":null},\"id\":\"8f6b78ed-fc74-42e3-9d51-03f9b4c46d78\",\"type\":\"DataRange1d\"},{\"attributes\":{},\"id\":\"a8afefc8-8eb1-4e9e-bc69-3b2000e01f57\",\"type\":\"Selection\"},{\"attributes\":{\"callback\":null,\"data\":{\"x\":[22,6,9,10,21,36,10,15,11,10,4,5,18,9,19,72,6,6,37,12,189,8,39,4,6,18,32,8,9,14,9,19,15,12,16,4,21,13,30,43,11,14,4,25,16,29,10,27,13,33,10,6,9,10,11,9,11,11,7,32,16,9,85,9,11,12,6,4,57,3,50,84,16,27,14,9,15,3,15,3,18,3,7,1,4,4,5,12,6,4,2,6,14,3,8,10,18,8,40,9,30,8,16,73,127,5,24,25,13,26,23,23,27,37,93,12,10,35,35,44,14,12,7,6,5,7,7,11,8,21,28,15,63,8,24,23,22,14,48,43,4,18,18,48,42,31,11,13,14,5,4,6,64,4,14,16,5,15,10,3,7,17,3,4,32,9,38,27,12,9,18,11,9,16,14,16,13,3,16,8,28,15,9,82,16,9,39,409,18,4,1,18,26,15,46,20,5,31,236,34,19,17,7,14,28,28,17,15,34,20,43,9,24,39,23,15,12,11,3,42,3,17,11,17,13,20,18,25,8,14,6,8,8,5,4,13,94,15,9,8,20,4,8,7,7,10,9,7,22,41,21,8,21,18,9,2,8,26,12,23,33,11,15,9,10,14,17,9,30,9,12,13,10,7,14,4,16,12,63,12,5,37,12,7,36,40,208,67,16,12,21,16,13,9,10,14,58,19,48,83,7,41,15,12,9,43,14,99,12,8,129,24,6,15,18,9,21,21,12,63,3,17,6,45,17,23,17,29,28,18,49,38,14,2,17,14,9,22,10,29,7,27,9,5,13,27,5,5,26,11,10,16,6,10,13,10,4,7,1,10,28,38,11,9,8,7,89,34,102,81,5,9,28,197,15,7,7,3,2,17,41,38,21,21,37,79,157,4,11,3,11,10,22,32,65,35,31,36,12,21,10,15,5,5,40,32,5,8,21,80,22,15,4,28,29,97,16,58,16,48,21,6,8,22,2,4,25,12,150,18,71,25,32,129,49,11,36,11,7,101,3,9,4,65,8,46,14,12,22,1,14,27,24,15,29,7,17,16,1,17,9,58,80,23,10,56,395,16,22,33,8,12,36,24,171,12,37,15,8,17,15,11,65,42,16,49,46,17,35,28,49,18,10,52,26,19,60,28],\"y\":{\"__ndarray__\":\"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\",\"dtype\":\"float64\",\"shape\":[498]}},\"selected\":{\"id\":\"a8afefc8-8eb1-4e9e-bc69-3b2000e01f57\",\"type\":\"Selection\"},\"selection_policy\":{\"id\":\"ee014c17-f1c0-43e8-9f33-8a6251f8afde\",\"type\":\"UnionRenderers\"}},\"id\":\"63151c94-c11a-4c0d-b3f0-a2d08d00cc67\",\"type\":\"ColumnDataSource\"},{\"attributes\":{\"bottom_units\":\"screen\",\"fill_alpha\":{\"value\":0.5},\"fill_color\":{\"value\":\"lightgrey\"},\"left_units\":\"screen\",\"level\":\"overlay\",\"line_alpha\":{\"value\":1.0},\"line_color\":{\"value\":\"black\"},\"line_dash\":[4,4],\"line_width\":{\"value\":2},\"plot\":null,\"render_mode\":\"css\",\"right_units\":\"screen\",\"top_units\":\"screen\"},\"id\":\"ae502b1f-f16a-48ec-a06f-a238683194b8\",\"type\":\"BoxAnnotation\"},{\"attributes\":{\"source\":{\"id\":\"63151c94-c11a-4c0d-b3f0-a2d08d00cc67\",\"type\":\"ColumnDataSource\"}},\"id\":\"38421e67-a63c-44ae-84aa-4cd3befec1b4\",\"type\":\"CDSView\"}],\"root_ids\":[\"aa7fee33-afca-444e-a56b-aa441f92ca69\"]},\"title\":\"Bokeh Application\",\"version\":\"0.13.0\"}};\n",
       "  var render_items = [{\"docid\":\"ba09d01b-62c1-4aa8-bdca-ac9e9e68ca4a\",\"roots\":{\"aa7fee33-afca-444e-a56b-aa441f92ca69\":\"fe75c613-b5f8-4381-996e-810675366a2f\"}}];\n",
       "  root.Bokeh.embed.embed_items_notebook(docs_json, render_items);\n",
       "\n",
       "  }\n",
       "  if (root.Bokeh !== undefined) {\n",
       "    embed_document(root);\n",
       "  } else {\n",
       "    var attempts = 0;\n",
       "    var timer = setInterval(function(root) {\n",
       "      if (root.Bokeh !== undefined) {\n",
       "        embed_document(root);\n",
       "        clearInterval(timer);\n",
       "      }\n",
       "      attempts++;\n",
       "      if (attempts > 100) {\n",
       "        console.log(\"Bokeh: ERROR: Unable to run BokehJS code because BokehJS library is missing\")\n",
       "        clearInterval(timer);\n",
       "      }\n",
       "    }, 10, root)\n",
       "  }\n",
       "})(window);"
      ],
      "application/vnd.bokehjs_exec.v0+json": ""
     },
     "metadata": {
      "application/vnd.bokehjs_exec.v0+json": {
       "id": "aa7fee33-afca-444e-a56b-aa441f92ca69"
      }
     },
     "output_type": "display_data"
    }
   ],
   "source": [
    "p = figure(plot_height=300, plot_width=600)\n",
    "p.circle(wordcount, np.log(scores), color='red', size=2)\n",
    "show(p)"
   ]
  },
  {
   "cell_type": "code",
   "execution_count": 24,
   "metadata": {
    "slideshow": {
     "slide_type": "slide"
    }
   },
   "outputs": [
    {
     "name": "stdout",
     "output_type": "stream",
     "text": [
      "Guardians of the Front Page\n",
      "283483\n",
      "iH8myPP\n",
      "\n",
      "Thanks, Obama.\n",
      "230828\n",
      "Itsjorgehernandez\n",
      "\n"
     ]
    }
   ],
   "source": [
    "for post in reddit.subreddit('all').top('all', limit=2):\n",
    "    print(post.title)\n",
    "    print(post.score)\n",
    "    print(str(post.author) + '\\n')"
   ]
  },
  {
   "cell_type": "code",
   "execution_count": 70,
   "metadata": {},
   "outputs": [],
   "source": [
    "cloud = WordCloud()"
   ]
  },
  {
   "cell_type": "code",
   "execution_count": null,
   "metadata": {},
   "outputs": [],
   "source": [
    "# for comment in news.stream.comments():\n",
    "#     print(comment.body)"
   ]
  },
  {
   "cell_type": "code",
   "execution_count": 71,
   "metadata": {
    "slideshow": {
     "slide_type": "slide"
    }
   },
   "outputs": [],
   "source": [
    "import matplotlib.pyplot as plt\n",
    "import seaborn as sns\n",
    "%matplotlib inline\n",
    "sns.set_style('darkgrid')"
   ]
  },
  {
   "cell_type": "code",
   "execution_count": 72,
   "metadata": {
    "slideshow": {
     "slide_type": "slide"
    }
   },
   "outputs": [
    {
     "data": {
      "image/png": "[encoded data removed]",
      "text/plain": [
       "<Figure size 720x360 with 1 Axes>"
      ]
     },
     "metadata": {},
     "output_type": "display_data"
    }
   ],
   "source": [
    "fig, ax = plt.subplots(figsize=(10,5))\n",
    "plt.hist(wordcount, bins=50)\n",
    "# plt.scatter(wordcount, np.log(scores), s=.5)\n",
    "plt.show()"
   ]
  },
  {
   "cell_type": "code",
   "execution_count": 80,
   "metadata": {
    "slideshow": {
     "slide_type": "slide"
    }
   },
   "outputs": [
    {
     "name": "stderr",
     "output_type": "stream",
     "text": [
      "/anaconda3/envs/live_plot/lib/python3.7/site-packages/scipy/stats/stats.py:1713: FutureWarning: Using a non-tuple sequence for multidimensional indexing is deprecated; use `arr[tuple(seq)]` instead of `arr[seq]`. In the future this will be interpreted as an array index, `arr[np.array(seq)]`, which will result either in an error or a different result.\n",
      "  return np.add.reduce(sorted[indexer] * weights, axis=axis) / sumval\n"
     ]
    },
    {
     "data": {
      "image/png": "[encoded data removed]",
      "text/plain": [
       "<Figure size 576x360 with 1 Axes>"
      ]
     },
     "metadata": {},
     "output_type": "display_data"
    }
   ],
   "source": [
    "fig, ax = plt.subplots(figsize=(8,5))\n",
    "sns.kdeplot(np.log(wordcount), np.log(scores), shade=True)\n",
    "plt.xlabel('log(Comment length)')\n",
    "plt.ylabel('log(Comment score)')\n",
    "plt.show()"
   ]
  },
  {
   "cell_type": "code",
   "execution_count": null,
   "metadata": {
    "slideshow": {
     "slide_type": "slide"
    }
   },
   "outputs": [],
   "source": [
    "def clean_text(text):\n",
    "    \"\"\"Pass in string. Remove punctuation and stop words and return stemmed list.\"\"\"\n",
    "    re_pattern = re.compile('[' + re.escape(string.punctuation) + '\\\\d\\\\r\\\\t\\\\n]')\n",
    "    text = re_pattern.sub(' ', text)\n",
    "    stemmed = [ps.stem(word) for word in word_tokenize(text)\n",
    "               if word not in stop_words and len(word) > 2]\n",
    "    return stemmed\n",
    "\n",
    "ps = PorterStemmer()\n",
    "stop_words = stopwords.words('English')\n",
    "\n",
    "body_combined = ' '.join(body)\n",
    "cleaned = clean_text(body_combined)"
   ]
  },
  {
   "cell_type": "markdown",
   "metadata": {
    "slideshow": {
     "slide_type": "slide"
    }
   },
   "source": [
    "### Testing a bot\n",
    "https://www.reddit.com/wiki/bottiquette\n",
    "\n",
    "https://www.reddit.com/r/test"
   ]
  },
  {
   "cell_type": "markdown",
   "metadata": {
    "slideshow": {
     "slide_type": "slide"
    }
   },
   "source": [
    "### Image Source\n",
    "https://www.theverge.com/2018/3/14/17121066/reddit-promoted-posts-mobile-app"
   ]
  },
  {
   "cell_type": "code",
   "execution_count": null,
   "metadata": {
    "slideshow": {
     "slide_type": "skip"
    }
   },
   "outputs": [],
   "source": []
  }
 ],
 "metadata": {
  "celltoolbar": "Slideshow",
  "kernelspec": {
   "display_name": "Python 3",
   "language": "python",
   "name": "python3"
  },
  "language_info": {
   "codemirror_mode": {
    "name": "ipython",
    "version": 3
   },
   "file_extension": ".py",
   "mimetype": "text/x-python",
   "name": "python",
   "nbconvert_exporter": "python",
   "pygments_lexer": "ipython3",
   "version": "3.7.0"
  }
 },
 "nbformat": 4,
 "nbformat_minor": 2
}
